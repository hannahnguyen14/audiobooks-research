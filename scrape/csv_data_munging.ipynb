{
 "cells": [
  {
   "cell_type": "markdown",
   "id": "d35324bc-0483-4eab-9ddd-2fad08ce09ee",
   "metadata": {},
   "source": [
    "# Data munging"
   ]
  },
  {
   "cell_type": "code",
   "execution_count": null,
   "id": "84eb46c4-4e56-4cb4-8793-ddeae811069d",
   "metadata": {},
   "outputs": [],
   "source": [
    "import pandas as pd\n",
    "import re\n",
    "from sklearn.utils import shuffle"
   ]
  },
  {
   "cell_type": "code",
   "execution_count": 2,
   "id": "4b46d4cc-de65-4b37-b5be-896f82753d75",
   "metadata": {},
   "outputs": [],
   "source": [
    "df_all = pd.read_csv(\"../data/all_english_audible.csv\")"
   ]
  },
  {
   "cell_type": "code",
   "execution_count": 5,
   "id": "04bd5ec3-7724-4ea6-8d94-1a629400f151",
   "metadata": {},
   "outputs": [],
   "source": [
    "df_new = pd.read_csv(\"../data/audible_new_books_05122020.csv\")"
   ]
  },
  {
   "cell_type": "markdown",
   "id": "8fff0613-0182-4020-8aa9-1aeef0a95184",
   "metadata": {},
   "source": [
    "## df_all clean"
   ]
  },
  {
   "cell_type": "code",
   "execution_count": 6,
   "id": "99a22ded-79c0-4dc1-b755-277f8ea58682",
   "metadata": {},
   "outputs": [],
   "source": [
    "# Get all rows with NA asin\n",
    "df_all_na_asin = df_all[df_all['asin'].isna()]"
   ]
  },
  {
   "cell_type": "code",
   "execution_count": 7,
   "id": "f0507561-b775-424b-bca8-b9ede3bd4086",
   "metadata": {},
   "outputs": [],
   "source": [
    "# Function to extract asin from link\n",
    "def extract_asin(link):\n",
    "    #Capture the pattern of asin\n",
    "    match = re.search(r'/(\\w+)\\?', link)\n",
    "    if match:\n",
    "        return match.group(1)\n",
    "    return None"
   ]
  },
  {
   "cell_type": "code",
   "execution_count": 8,
   "id": "9e9bcf9e-cf1e-40d1-8a55-8408a1845800",
   "metadata": {},
   "outputs": [
    {
     "name": "stderr",
     "output_type": "stream",
     "text": [
      "/var/folders/3f/2_syl7793_j_c413yxmzlq980000gn/T/ipykernel_97325/1366719223.py:1: SettingWithCopyWarning: \n",
      "A value is trying to be set on a copy of a slice from a DataFrame.\n",
      "Try using .loc[row_indexer,col_indexer] = value instead\n",
      "\n",
      "See the caveats in the documentation: https://pandas.pydata.org/pandas-docs/stable/user_guide/indexing.html#returning-a-view-versus-a-copy\n",
      "  df_all_na_asin['asin'] = df_all_na_asin['link'].apply(extract_asin)\n"
     ]
    }
   ],
   "source": [
    "# Extract asin from link\n",
    "df_all_na_asin['asin'] = df_all_na_asin['link'].apply(extract_asin)"
   ]
  },
  {
   "cell_type": "code",
   "execution_count": 9,
   "id": "b33e0316-62e5-4f7d-8a0a-a84d4d13ac8a",
   "metadata": {},
   "outputs": [],
   "source": [
    "df_all.update(df_all_na_asin)"
   ]
  },
  {
   "cell_type": "code",
   "execution_count": 10,
   "id": "01796d29-af09-4478-b897-f5d334d5594b",
   "metadata": {},
   "outputs": [],
   "source": [
    "#df_all for merge\n",
    "df_all_asin_merge = df_all[['asin', 'author', 'title', 'narrator','length', 'category']]"
   ]
  },
  {
   "cell_type": "code",
   "execution_count": 12,
   "id": "1c1b898c",
   "metadata": {},
   "outputs": [
    {
     "data": {
      "text/plain": [
       "460544"
      ]
     },
     "execution_count": 12,
     "metadata": {},
     "output_type": "execute_result"
    }
   ],
   "source": [
    "len(df_all_asin_merge)"
   ]
  },
  {
   "cell_type": "markdown",
   "id": "fb111cab-9d8e-4aa7-92c9-81025c2f51c8",
   "metadata": {},
   "source": [
    "## df_new clean"
   ]
  },
  {
   "cell_type": "code",
   "execution_count": 13,
   "id": "830fc9ad-59c3-4fdb-9f31-c698b673ced7",
   "metadata": {},
   "outputs": [
    {
     "data": {
      "text/html": [
       "<div>\n",
       "<style scoped>\n",
       "    .dataframe tbody tr th:only-of-type {\n",
       "        vertical-align: middle;\n",
       "    }\n",
       "\n",
       "    .dataframe tbody tr th {\n",
       "        vertical-align: top;\n",
       "    }\n",
       "\n",
       "    .dataframe thead th {\n",
       "        text-align: right;\n",
       "    }\n",
       "</style>\n",
       "<table border=\"1\" class=\"dataframe\">\n",
       "  <thead>\n",
       "    <tr style=\"text-align: right;\">\n",
       "      <th></th>\n",
       "      <th>Unnamed: 0</th>\n",
       "      <th>asin</th>\n",
       "      <th>link</th>\n",
       "      <th>title</th>\n",
       "      <th>subtitle</th>\n",
       "      <th>author_name</th>\n",
       "      <th>author_link</th>\n",
       "      <th>narrator_name</th>\n",
       "      <th>narrator_link</th>\n",
       "      <th>length</th>\n",
       "      <th>date</th>\n",
       "      <th>language</th>\n",
       "      <th>rating</th>\n",
       "      <th>rating_count</th>\n",
       "      <th>price</th>\n",
       "      <th>category</th>\n",
       "      <th>page_number</th>\n",
       "    </tr>\n",
       "  </thead>\n",
       "  <tbody>\n",
       "    <tr>\n",
       "      <th>0</th>\n",
       "      <td>0</td>\n",
       "      <td>1094129747</td>\n",
       "      <td>/pd/2PAC-in-the-Studio-Audiobook/1094129747?qi...</td>\n",
       "      <td>2PAC in the Studio</td>\n",
       "      <td>The Stories Behind the Greatest Hits</td>\n",
       "      <td>Jake Brown</td>\n",
       "      <td>/search?searchAuthor=Jake+Brown&amp;ref=a_search_c...</td>\n",
       "      <td>Jake Brown</td>\n",
       "      <td>/search?searchNarrator=Jake+Brown&amp;ref=a_search...</td>\n",
       "      <td>7 hrs</td>\n",
       "      <td>06-29-21</td>\n",
       "      <td>English</td>\n",
       "      <td>Not rated yet</td>\n",
       "      <td>Not rated yet</td>\n",
       "      <td>$23.07</td>\n",
       "      <td>Arts &amp; Entertainment</td>\n",
       "      <td>1</td>\n",
       "    </tr>\n",
       "    <tr>\n",
       "      <th>1</th>\n",
       "      <td>1</td>\n",
       "      <td>1094093971</td>\n",
       "      <td>/pd/Scientists-of-Sound-Vol-2-Audiobook/109409...</td>\n",
       "      <td>Scientists of Sound, Vol. 2</td>\n",
       "      <td>The 80s!</td>\n",
       "      <td>Jake Brown</td>\n",
       "      <td>/search?searchAuthor=Jake+Brown&amp;ref=a_search_c...</td>\n",
       "      <td>Jake Brown</td>\n",
       "      <td>/search?searchNarrator=Jake+Brown&amp;ref=a_search...</td>\n",
       "      <td>10 hrs</td>\n",
       "      <td>03-30-21</td>\n",
       "      <td>English</td>\n",
       "      <td>Not rated yet</td>\n",
       "      <td>Not rated yet</td>\n",
       "      <td>$24.47</td>\n",
       "      <td>Arts &amp; Entertainment</td>\n",
       "      <td>1</td>\n",
       "    </tr>\n",
       "    <tr>\n",
       "      <th>2</th>\n",
       "      <td>2</td>\n",
       "      <td>059315603X</td>\n",
       "      <td>/pd/They-Dont-Dance-No-Mo-Audiobook/059315603X...</td>\n",
       "      <td>They Don't Dance No Mo'</td>\n",
       "      <td>NaN</td>\n",
       "      <td>Hanif Abdurraqib</td>\n",
       "      <td>/author/Hanif-Abdurraqib/B07JVM42M1?ref=a_sear...</td>\n",
       "      <td>NaN</td>\n",
       "      <td>NaN</td>\n",
       "      <td>10 hrs</td>\n",
       "      <td>03-23-21</td>\n",
       "      <td>English</td>\n",
       "      <td>Not rated yet</td>\n",
       "      <td>Not rated yet</td>\n",
       "      <td>$28.00</td>\n",
       "      <td>Arts &amp; Entertainment</td>\n",
       "      <td>1</td>\n",
       "    </tr>\n",
       "    <tr>\n",
       "      <th>3</th>\n",
       "      <td>3</td>\n",
       "      <td>0062988611</td>\n",
       "      <td>/pd/Shame-Audiobook/0062988611?qid=1589313846&amp;...</td>\n",
       "      <td>Shame</td>\n",
       "      <td>NaN</td>\n",
       "      <td>Jameela Jamil</td>\n",
       "      <td>/search?searchAuthor=Jameela+Jamil&amp;ref=a_searc...</td>\n",
       "      <td>NaN</td>\n",
       "      <td>NaN</td>\n",
       "      <td>12 hrs</td>\n",
       "      <td>03-02-21</td>\n",
       "      <td>English</td>\n",
       "      <td>Not rated yet</td>\n",
       "      <td>Not rated yet</td>\n",
       "      <td>$28.51</td>\n",
       "      <td>Arts &amp; Entertainment</td>\n",
       "      <td>1</td>\n",
       "    </tr>\n",
       "    <tr>\n",
       "      <th>4</th>\n",
       "      <td>4</td>\n",
       "      <td>0062958771</td>\n",
       "      <td>/pd/The-Whole-Truth-Audiobook/0062958771?qid=1...</td>\n",
       "      <td>The Whole Truth</td>\n",
       "      <td>The Reality of It All</td>\n",
       "      <td>Kim Richards</td>\n",
       "      <td>/search?searchAuthor=Kim+Richards&amp;ref=a_search...</td>\n",
       "      <td>NaN</td>\n",
       "      <td>NaN</td>\n",
       "      <td>12 hrs</td>\n",
       "      <td>02-15-21</td>\n",
       "      <td>English</td>\n",
       "      <td>Not rated yet</td>\n",
       "      <td>Not rated yet</td>\n",
       "      <td>$30.79</td>\n",
       "      <td>Arts &amp; Entertainment</td>\n",
       "      <td>1</td>\n",
       "    </tr>\n",
       "    <tr>\n",
       "      <th>...</th>\n",
       "      <td>...</td>\n",
       "      <td>...</td>\n",
       "      <td>...</td>\n",
       "      <td>...</td>\n",
       "      <td>...</td>\n",
       "      <td>...</td>\n",
       "      <td>...</td>\n",
       "      <td>...</td>\n",
       "      <td>...</td>\n",
       "      <td>...</td>\n",
       "      <td>...</td>\n",
       "      <td>...</td>\n",
       "      <td>...</td>\n",
       "      <td>...</td>\n",
       "      <td>...</td>\n",
       "      <td>...</td>\n",
       "      <td>...</td>\n",
       "    </tr>\n",
       "    <tr>\n",
       "      <th>17885</th>\n",
       "      <td>17885</td>\n",
       "      <td>B085WD5RBB</td>\n",
       "      <td>/pd/Brothers-of-the-Flame-Audiobook/B085WD5RBB...</td>\n",
       "      <td>Brothers of the Flame</td>\n",
       "      <td>An Ariel Kimber Novel, Volume 1</td>\n",
       "      <td>Mary Martel</td>\n",
       "      <td>/author/Mary-Martel/B013C4UTGU?ref=a_search_c3...</td>\n",
       "      <td>Melissa Schwairy</td>\n",
       "      <td>/search?searchNarrator=Melissa+Schwairy&amp;ref=a_...</td>\n",
       "      <td>8 hrs and 18 mins</td>\n",
       "      <td>03-16-20</td>\n",
       "      <td>English</td>\n",
       "      <td>4.5 out of 5 stars</td>\n",
       "      <td>22 ratings</td>\n",
       "      <td>$19.95</td>\n",
       "      <td>Teens</td>\n",
       "      <td>24</td>\n",
       "    </tr>\n",
       "    <tr>\n",
       "      <th>17886</th>\n",
       "      <td>17886</td>\n",
       "      <td>1773055232</td>\n",
       "      <td>/pd/When-Morning-Comes-Audiobook/1773055232?qi...</td>\n",
       "      <td>When Morning Comes</td>\n",
       "      <td>NaN</td>\n",
       "      <td>Arushi Raina</td>\n",
       "      <td>/author/Arushi-Raina/B01JWR1834?ref=a_search_c...</td>\n",
       "      <td>Jamie Bloch,John Fleming,Patience Mpumlwana,To...</td>\n",
       "      <td>/search?searchNarrator=Jamie+Bloch&amp;ref=a_searc...</td>\n",
       "      <td>6 hrs and 20 mins</td>\n",
       "      <td>03-16-20</td>\n",
       "      <td>English</td>\n",
       "      <td>5 out of 5 stars</td>\n",
       "      <td>1 rating</td>\n",
       "      <td>$13.99</td>\n",
       "      <td>Teens</td>\n",
       "      <td>24</td>\n",
       "    </tr>\n",
       "    <tr>\n",
       "      <th>17887</th>\n",
       "      <td>17887</td>\n",
       "      <td>B085WBYSYQ</td>\n",
       "      <td>/pd/Alumni-A-Divine-Dungeon-Series-Audiobook/B...</td>\n",
       "      <td>Alumni: A Divine Dungeon Series</td>\n",
       "      <td>Artorian's Archives, Book 2</td>\n",
       "      <td>Dennis Vanderkerken,Dakota Krout</td>\n",
       "      <td>/author/Dennis-Vanderkerken/B07ZQTZLHG?ref=a_s...</td>\n",
       "      <td>Travis Baldree</td>\n",
       "      <td>/search?searchNarrator=Travis+Baldree&amp;ref=a_se...</td>\n",
       "      <td>13 hrs and 58 mins</td>\n",
       "      <td>03-14-20</td>\n",
       "      <td>English</td>\n",
       "      <td>5 out of 5 stars</td>\n",
       "      <td>650 ratings</td>\n",
       "      <td>$24.95</td>\n",
       "      <td>Teens</td>\n",
       "      <td>24</td>\n",
       "    </tr>\n",
       "    <tr>\n",
       "      <th>17888</th>\n",
       "      <td>17888</td>\n",
       "      <td>B085QNL9SN</td>\n",
       "      <td>/pd/Dead-America-Mississippi-Audiobook/B085QNL...</td>\n",
       "      <td>Dead America: Mississippi</td>\n",
       "      <td>Dead America: The Second Week, Book 1</td>\n",
       "      <td>Derek Slaton</td>\n",
       "      <td>/author/Derek-Slaton/B00IXQZKKI?ref=a_search_c...</td>\n",
       "      <td>P. J. Morgan</td>\n",
       "      <td>/search?searchNarrator=P.+J.+Morgan&amp;ref=a_sear...</td>\n",
       "      <td>1 hr and 46 mins</td>\n",
       "      <td>03-14-20</td>\n",
       "      <td>English</td>\n",
       "      <td>5 out of 5 stars</td>\n",
       "      <td>2 ratings</td>\n",
       "      <td>$6.95</td>\n",
       "      <td>Teens</td>\n",
       "      <td>24</td>\n",
       "    </tr>\n",
       "    <tr>\n",
       "      <th>17889</th>\n",
       "      <td>17889</td>\n",
       "      <td>B085R8HTRN</td>\n",
       "      <td>/pd/Stars-Awoken-A-LitRPG-Apocalypse-Audiobook...</td>\n",
       "      <td>Stars Awoken (A LitRPG Apocalypse)</td>\n",
       "      <td>The System Apocalypse, Book 7</td>\n",
       "      <td>Tao Wong</td>\n",
       "      <td>/author/Tao-Wong/B073PSD9WY?ref=a_search_c3_lA...</td>\n",
       "      <td>Nick Podehl</td>\n",
       "      <td>/search?searchNarrator=Nick+Podehl&amp;ref=a_searc...</td>\n",
       "      <td>9 hrs and 14 mins</td>\n",
       "      <td>03-13-20</td>\n",
       "      <td>English</td>\n",
       "      <td>5 out of 5 stars</td>\n",
       "      <td>480 ratings</td>\n",
       "      <td>$19.95</td>\n",
       "      <td>Teens</td>\n",
       "      <td>24</td>\n",
       "    </tr>\n",
       "  </tbody>\n",
       "</table>\n",
       "<p>17890 rows × 17 columns</p>\n",
       "</div>"
      ],
      "text/plain": [
       "       Unnamed: 0        asin  \\\n",
       "0               0  1094129747   \n",
       "1               1  1094093971   \n",
       "2               2  059315603X   \n",
       "3               3  0062988611   \n",
       "4               4  0062958771   \n",
       "...           ...         ...   \n",
       "17885       17885  B085WD5RBB   \n",
       "17886       17886  1773055232   \n",
       "17887       17887  B085WBYSYQ   \n",
       "17888       17888  B085QNL9SN   \n",
       "17889       17889  B085R8HTRN   \n",
       "\n",
       "                                                    link  \\\n",
       "0      /pd/2PAC-in-the-Studio-Audiobook/1094129747?qi...   \n",
       "1      /pd/Scientists-of-Sound-Vol-2-Audiobook/109409...   \n",
       "2      /pd/They-Dont-Dance-No-Mo-Audiobook/059315603X...   \n",
       "3      /pd/Shame-Audiobook/0062988611?qid=1589313846&...   \n",
       "4      /pd/The-Whole-Truth-Audiobook/0062958771?qid=1...   \n",
       "...                                                  ...   \n",
       "17885  /pd/Brothers-of-the-Flame-Audiobook/B085WD5RBB...   \n",
       "17886  /pd/When-Morning-Comes-Audiobook/1773055232?qi...   \n",
       "17887  /pd/Alumni-A-Divine-Dungeon-Series-Audiobook/B...   \n",
       "17888  /pd/Dead-America-Mississippi-Audiobook/B085QNL...   \n",
       "17889  /pd/Stars-Awoken-A-LitRPG-Apocalypse-Audiobook...   \n",
       "\n",
       "                                    title  \\\n",
       "0                      2PAC in the Studio   \n",
       "1             Scientists of Sound, Vol. 2   \n",
       "2                 They Don't Dance No Mo'   \n",
       "3                                   Shame   \n",
       "4                         The Whole Truth   \n",
       "...                                   ...   \n",
       "17885               Brothers of the Flame   \n",
       "17886                  When Morning Comes   \n",
       "17887     Alumni: A Divine Dungeon Series   \n",
       "17888           Dead America: Mississippi   \n",
       "17889  Stars Awoken (A LitRPG Apocalypse)   \n",
       "\n",
       "                                    subtitle  \\\n",
       "0       The Stories Behind the Greatest Hits   \n",
       "1                                   The 80s!   \n",
       "2                                        NaN   \n",
       "3                                        NaN   \n",
       "4                      The Reality of It All   \n",
       "...                                      ...   \n",
       "17885        An Ariel Kimber Novel, Volume 1   \n",
       "17886                                    NaN   \n",
       "17887            Artorian's Archives, Book 2   \n",
       "17888  Dead America: The Second Week, Book 1   \n",
       "17889          The System Apocalypse, Book 7   \n",
       "\n",
       "                            author_name  \\\n",
       "0                            Jake Brown   \n",
       "1                            Jake Brown   \n",
       "2                      Hanif Abdurraqib   \n",
       "3                         Jameela Jamil   \n",
       "4                          Kim Richards   \n",
       "...                                 ...   \n",
       "17885                       Mary Martel   \n",
       "17886                      Arushi Raina   \n",
       "17887  Dennis Vanderkerken,Dakota Krout   \n",
       "17888                      Derek Slaton   \n",
       "17889                          Tao Wong   \n",
       "\n",
       "                                             author_link  \\\n",
       "0      /search?searchAuthor=Jake+Brown&ref=a_search_c...   \n",
       "1      /search?searchAuthor=Jake+Brown&ref=a_search_c...   \n",
       "2      /author/Hanif-Abdurraqib/B07JVM42M1?ref=a_sear...   \n",
       "3      /search?searchAuthor=Jameela+Jamil&ref=a_searc...   \n",
       "4      /search?searchAuthor=Kim+Richards&ref=a_search...   \n",
       "...                                                  ...   \n",
       "17885  /author/Mary-Martel/B013C4UTGU?ref=a_search_c3...   \n",
       "17886  /author/Arushi-Raina/B01JWR1834?ref=a_search_c...   \n",
       "17887  /author/Dennis-Vanderkerken/B07ZQTZLHG?ref=a_s...   \n",
       "17888  /author/Derek-Slaton/B00IXQZKKI?ref=a_search_c...   \n",
       "17889  /author/Tao-Wong/B073PSD9WY?ref=a_search_c3_lA...   \n",
       "\n",
       "                                           narrator_name  \\\n",
       "0                                             Jake Brown   \n",
       "1                                             Jake Brown   \n",
       "2                                                    NaN   \n",
       "3                                                    NaN   \n",
       "4                                                    NaN   \n",
       "...                                                  ...   \n",
       "17885                                   Melissa Schwairy   \n",
       "17886  Jamie Bloch,John Fleming,Patience Mpumlwana,To...   \n",
       "17887                                     Travis Baldree   \n",
       "17888                                       P. J. Morgan   \n",
       "17889                                        Nick Podehl   \n",
       "\n",
       "                                           narrator_link              length  \\\n",
       "0      /search?searchNarrator=Jake+Brown&ref=a_search...               7 hrs   \n",
       "1      /search?searchNarrator=Jake+Brown&ref=a_search...              10 hrs   \n",
       "2                                                    NaN              10 hrs   \n",
       "3                                                    NaN              12 hrs   \n",
       "4                                                    NaN              12 hrs   \n",
       "...                                                  ...                 ...   \n",
       "17885  /search?searchNarrator=Melissa+Schwairy&ref=a_...   8 hrs and 18 mins   \n",
       "17886  /search?searchNarrator=Jamie+Bloch&ref=a_searc...   6 hrs and 20 mins   \n",
       "17887  /search?searchNarrator=Travis+Baldree&ref=a_se...  13 hrs and 58 mins   \n",
       "17888  /search?searchNarrator=P.+J.+Morgan&ref=a_sear...    1 hr and 46 mins   \n",
       "17889  /search?searchNarrator=Nick+Podehl&ref=a_searc...   9 hrs and 14 mins   \n",
       "\n",
       "           date language              rating   rating_count   price  \\\n",
       "0      06-29-21  English       Not rated yet  Not rated yet  $23.07   \n",
       "1      03-30-21  English       Not rated yet  Not rated yet  $24.47   \n",
       "2      03-23-21  English       Not rated yet  Not rated yet  $28.00   \n",
       "3      03-02-21  English       Not rated yet  Not rated yet  $28.51   \n",
       "4      02-15-21  English       Not rated yet  Not rated yet  $30.79   \n",
       "...         ...      ...                 ...            ...     ...   \n",
       "17885  03-16-20  English  4.5 out of 5 stars     22 ratings  $19.95   \n",
       "17886  03-16-20  English    5 out of 5 stars       1 rating  $13.99   \n",
       "17887  03-14-20  English    5 out of 5 stars    650 ratings  $24.95   \n",
       "17888  03-14-20  English    5 out of 5 stars      2 ratings   $6.95   \n",
       "17889  03-13-20  English    5 out of 5 stars    480 ratings  $19.95   \n",
       "\n",
       "                   category  page_number  \n",
       "0      Arts & Entertainment            1  \n",
       "1      Arts & Entertainment            1  \n",
       "2      Arts & Entertainment            1  \n",
       "3      Arts & Entertainment            1  \n",
       "4      Arts & Entertainment            1  \n",
       "...                     ...          ...  \n",
       "17885                 Teens           24  \n",
       "17886                 Teens           24  \n",
       "17887                 Teens           24  \n",
       "17888                 Teens           24  \n",
       "17889                 Teens           24  \n",
       "\n",
       "[17890 rows x 17 columns]"
      ]
     },
     "execution_count": 13,
     "metadata": {},
     "output_type": "execute_result"
    }
   ],
   "source": [
    "# Function to clean asin\n",
    "def extract_asin(asin_str):\n",
    "    # If in the list format\n",
    "    if asin_str.startswith('['):\n",
    "        # Split by comma, and take the third element \n",
    "        asin_parts = [part.strip(\" '\") for part in asin_str.split(\"', '\")]\n",
    "        return asin_parts[2] if len(asin_parts) > 2 else None\n",
    "    else:\n",
    "        return asin_str\n",
    "\n",
    "df_new['asin'] = df_new['asin'].apply(extract_asin)\n",
    "df_new"
   ]
  },
  {
   "cell_type": "code",
   "execution_count": 14,
   "id": "07705bd2-adb9-49d1-b26d-3a74dd1e1ad4",
   "metadata": {},
   "outputs": [],
   "source": [
    "# Rename to match 2 DataFrame\n",
    "df_new.rename(columns={\"author_name\": \"author\", \"narrator_name\": \"narrator\"}, inplace=True)"
   ]
  },
  {
   "cell_type": "code",
   "execution_count": 15,
   "id": "4f999ad4-2758-4880-afda-3aa08c5a85b3",
   "metadata": {},
   "outputs": [],
   "source": [
    "# df new for merge\n",
    "df_new_asin_merge = df_new[['asin', 'author', 'title', 'narrator', 'length', 'category']]"
   ]
  },
  {
   "cell_type": "code",
   "execution_count": 17,
   "id": "5c8ecda4",
   "metadata": {},
   "outputs": [
    {
     "data": {
      "text/plain": [
       "17890"
      ]
     },
     "execution_count": 17,
     "metadata": {},
     "output_type": "execute_result"
    }
   ],
   "source": [
    "len(df_new_asin_merge)"
   ]
  },
  {
   "cell_type": "markdown",
   "id": "ab646140-a286-43b7-8636-7a98041916ea",
   "metadata": {},
   "source": [
    "# merge data"
   ]
  },
  {
   "cell_type": "code",
   "execution_count": 18,
   "id": "c98ba356-38eb-40c6-b94b-6ab16b020806",
   "metadata": {},
   "outputs": [],
   "source": [
    "# Merge 2 DataFrames\n",
    "merged_df = pd.concat([df_all_asin_merge, df_new_asin_merge])"
   ]
  },
  {
   "cell_type": "markdown",
   "id": "5d5dfe7c-84b0-4d9a-93cf-1f234ed7b82e",
   "metadata": {},
   "source": [
    "### Merge drop dup asin clean"
   ]
  },
  {
   "cell_type": "code",
   "execution_count": 19,
   "id": "684235d0-1a8e-4a66-9c35-9fcb5830232a",
   "metadata": {},
   "outputs": [
    {
     "name": "stdout",
     "output_type": "stream",
     "text": [
      "385396\n"
     ]
    }
   ],
   "source": [
    "# Drop asin duplicate\n",
    "drop_dup_df = merged_df.drop_duplicates(subset='asin', keep='first')\n",
    "print(len(drop_dup_df))"
   ]
  },
  {
   "cell_type": "markdown",
   "id": "b95b8078-a4a0-4922-b861-90481bf4e43f",
   "metadata": {},
   "source": [
    "### Merge drop NA and multi narrator"
   ]
  },
  {
   "cell_type": "code",
   "execution_count": 20,
   "id": "3457bd07-1467-42c8-98c1-01ebf30793a8",
   "metadata": {},
   "outputs": [
    {
     "name": "stdout",
     "output_type": "stream",
     "text": [
      "375504\n"
     ]
    }
   ],
   "source": [
    "drop_dup_df = drop_dup_df[drop_dup_df['narrator'].notna()]\n",
    "print(len(drop_dup_df))"
   ]
  },
  {
   "cell_type": "code",
   "execution_count": 21,
   "id": "5d5b2bec-6a12-40d4-9b90-6ed943642183",
   "metadata": {},
   "outputs": [
    {
     "name": "stdout",
     "output_type": "stream",
     "text": [
      "346225\n"
     ]
    }
   ],
   "source": [
    "drop_dup_df = drop_dup_df[~drop_dup_df['narrator'].str.contains(',')]\n",
    "print(len(drop_dup_df))"
   ]
  },
  {
   "cell_type": "markdown",
   "id": "2dcf6ccc",
   "metadata": {},
   "source": [
    "## Filter Category"
   ]
  },
  {
   "cell_type": "code",
   "execution_count": 36,
   "id": "3c203333",
   "metadata": {},
   "outputs": [
    {
     "data": {
      "text/plain": [
       "array(['Arts & Entertainment', 'Bios & Memoirs', 'Business', 'Classics',\n",
       "       'Erotica & Sexuality', 'Fiction', 'History',\n",
       "       'Mysteries & Thrillers', 'Romance', 'Science & Technology',\n",
       "       'Sci-Fi & Fantasy', 'Self Development', 'Comedy',\n",
       "       'Newspapers & Magazines', 'Nostalgia Radio', 'Radio & TV',\n",
       "       'Sports', 'Travel & Adventure', 'Religion & Spirituality',\n",
       "       'Nonfiction', 'Live Events', 'Language Instruction',\n",
       "       'Drama & Poetry', 'Health & Fitness', 'Kids', 'Teens'],\n",
       "      dtype=object)"
      ]
     },
     "execution_count": 36,
     "metadata": {},
     "output_type": "execute_result"
    }
   ],
   "source": [
    "# Print all contained categories\n",
    "drop_dup_df[\"category\"].unique()"
   ]
  },
  {
   "cell_type": "code",
   "execution_count": 50,
   "id": "fa1d6388",
   "metadata": {},
   "outputs": [
    {
     "data": {
      "text/plain": [
       "139510"
      ]
     },
     "execution_count": 50,
     "metadata": {},
     "output_type": "execute_result"
    }
   ],
   "source": [
    "# Filter DataFrame down to only 6 chosen genres\n",
    "genres_df = drop_dup_df[drop_dup_df[\"category\"].isin([\"Bios & Memoirs\", \"Business\", \"History\", \"Mysteries & Thrillers\", \"Sci-Fi & Fantasy\", \"Romance\"])]\n",
    "len(genres_df)"
   ]
  },
  {
   "cell_type": "markdown",
   "id": "a68c66f9-75b8-47c1-8d1b-4e335843baa4",
   "metadata": {},
   "source": [
    "# Length clean"
   ]
  },
  {
   "cell_type": "code",
   "execution_count": 54,
   "id": "906521ad-14b4-4876-87e2-85b728326838",
   "metadata": {},
   "outputs": [],
   "source": [
    "# Function to convert length to minutes\n",
    "def convert_to_minutes(time_str):\n",
    "    if not isinstance(time_str, str):\n",
    "        return None  \n",
    "\n",
    "    time_parts = time_str.split(' ')\n",
    "    minutes = 0\n",
    "    if 'hr' in time_str or 'hrs' in time_str:\n",
    "        hours_index = time_parts.index('hrs') if 'hrs' in time_parts else time_parts.index('hr')\n",
    "        minutes += int(time_parts[hours_index - 1]) * 60  # Convert hours to minutes\n",
    "    \n",
    "    if 'min' in time_str or 'mins' in time_str:\n",
    "        minutes_index = time_parts.index('mins') if 'mins' in time_parts else time_parts.index('min')\n",
    "        minutes += int(time_parts[minutes_index - 1])\n",
    "    \n",
    "    return minutes"
   ]
  },
  {
   "cell_type": "code",
   "execution_count": 55,
   "id": "272b606c-1e21-4164-8011-2cbbc09692b2",
   "metadata": {},
   "outputs": [
    {
     "name": "stderr",
     "output_type": "stream",
     "text": [
      "/var/folders/3f/2_syl7793_j_c413yxmzlq980000gn/T/ipykernel_97325/2662082109.py:1: SettingWithCopyWarning: \n",
      "A value is trying to be set on a copy of a slice from a DataFrame.\n",
      "Try using .loc[row_indexer,col_indexer] = value instead\n",
      "\n",
      "See the caveats in the documentation: https://pandas.pydata.org/pandas-docs/stable/user_guide/indexing.html#returning-a-view-versus-a-copy\n",
      "  genres_df['length'] = genres_df['length'].apply(convert_to_minutes)\n"
     ]
    }
   ],
   "source": [
    "genres_df['length'] = genres_df['length'].apply(convert_to_minutes)"
   ]
  },
  {
   "cell_type": "code",
   "execution_count": 56,
   "id": "ef4f68b7-47c1-4f75-9397-65c59c33ba05",
   "metadata": {},
   "outputs": [],
   "source": [
    "#Drop NA\n",
    "genres_df = genres_df[genres_df['length'].notna()]\n",
    "\n",
    "#Drop 'length': \"Not Yet Known\"\n",
    "genres_df = genres_df[genres_df['length'] != \"Not Yet Known\"]"
   ]
  },
  {
   "cell_type": "markdown",
   "id": "c298227c-b30a-48ba-ba3f-a5dce4f55880",
   "metadata": {},
   "source": [
    "## Length histogram"
   ]
  },
  {
   "cell_type": "code",
   "execution_count": 53,
   "id": "4c4ae72d-2471-4616-98cc-a2f72f93bd61",
   "metadata": {},
   "outputs": [],
   "source": [
    "import matplotlib.pyplot as plt"
   ]
  },
  {
   "cell_type": "code",
   "execution_count": 58,
   "id": "fe28f4f3-1900-4bbd-b003-ce11e305b9a6",
   "metadata": {},
   "outputs": [
    {
     "data": {
      "image/png": "[encoded data removed]",
      "text/plain": [
       "<Figure size 640x480 with 1 Axes>"
      ]
     },
     "metadata": {},
     "output_type": "display_data"
    }
   ],
   "source": [
    "# Convert minutes into hours\n",
    "genres_df['length_in_hours'] = genres_df['length'] / 60\n",
    "\n",
    "# Define the bin edges for the histogram\n",
    "bin_edges = range(0, 20)  \n",
    "\n",
    "# Create the histogram\n",
    "plt.hist(genres_df['length_in_hours'], bins=bin_edges, edgecolor='black', align='left')\n",
    "\n",
    "# Set the ticks to be at the edges of each bin\n",
    "plt.xticks(bin_edges)\n",
    "\n",
    "# Set the labels and title\n",
    "plt.xlabel('Book Length by Hour Range')\n",
    "plt.ylabel('Number of Books')\n",
    "plt.title('Distribution of Book Lengths')\n",
    "\n",
    "# Optimize space to accommodate x-labels\n",
    "plt.tight_layout()\n",
    "\n",
    "# Show the plot\n",
    "plt.show()"
   ]
  },
  {
   "cell_type": "markdown",
   "id": "d74617b2-aff6-4ee5-844d-2382090da17a",
   "metadata": {},
   "source": [
    "## Cut down based on length"
   ]
  },
  {
   "cell_type": "code",
   "execution_count": 67,
   "id": "6d5e7f1e-6eb5-4db1-a68a-c55b1dfb2305",
   "metadata": {},
   "outputs": [
    {
     "name": "stdout",
     "output_type": "stream",
     "text": [
      "86764\n"
     ]
    }
   ],
   "source": [
    "length_cut = genres_df[genres_df['length_in_hours'] >= 6] #around 9300 words ~ 1 hour\n",
    "print(len(length_cut))"
   ]
  },
  {
   "cell_type": "code",
   "execution_count": 81,
   "id": "3a98caff",
   "metadata": {},
   "outputs": [
    {
     "name": "stderr",
     "output_type": "stream",
     "text": [
      "/var/folders/3f/2_syl7793_j_c413yxmzlq980000gn/T/ipykernel_97325/929500712.py:11: SettingWithCopyWarning: \n",
      "A value is trying to be set on a copy of a slice from a DataFrame.\n",
      "Try using .loc[row_indexer,col_indexer] = value instead\n",
      "\n",
      "See the caveats in the documentation: https://pandas.pydata.org/pandas-docs/stable/user_guide/indexing.html#returning-a-view-versus-a-copy\n",
      "  length_cut['category'] = length_cut['category'].replace(category_replacements)\n"
     ]
    }
   ],
   "source": [
    "# Change category name to match with API info scraping later\n",
    "# Define the mappings for category replacement\n",
    "category_replacements = {\n",
    "    'Bios & Memoirs': 'Biographies & Memoirs',\n",
    "    'Business': 'Business & Careers',\n",
    "    'Mysteries & Thrillers': 'Mystery, Thriller & Suspense',\n",
    "    'Sci-Fi & Fantasy': 'Science Fiction & Fantasy'\n",
    "}\n",
    "\n",
    "# Replace the category values\n",
    "length_cut['category'] = length_cut['category'].replace(category_replacements)"
   ]
  },
  {
   "cell_type": "code",
   "execution_count": 86,
   "id": "3c8f37c1",
   "metadata": {},
   "outputs": [],
   "source": [
    "# Shuffle the rows to scrape in randomize order\n",
    "df_shuffled = shuffle(length_cut, random_state=14).reset_index(drop=True)"
   ]
  },
  {
   "cell_type": "code",
   "execution_count": 87,
   "id": "58996a8e",
   "metadata": {},
   "outputs": [
    {
     "data": {
      "text/html": [
       "<div>\n",
       "<style scoped>\n",
       "    .dataframe tbody tr th:only-of-type {\n",
       "        vertical-align: middle;\n",
       "    }\n",
       "\n",
       "    .dataframe tbody tr th {\n",
       "        vertical-align: top;\n",
       "    }\n",
       "\n",
       "    .dataframe thead th {\n",
       "        text-align: right;\n",
       "    }\n",
       "</style>\n",
       "<table border=\"1\" class=\"dataframe\">\n",
       "  <thead>\n",
       "    <tr style=\"text-align: right;\">\n",
       "      <th></th>\n",
       "      <th>asin</th>\n",
       "      <th>author</th>\n",
       "      <th>title</th>\n",
       "      <th>narrator</th>\n",
       "      <th>length</th>\n",
       "      <th>category</th>\n",
       "      <th>length_in_hours</th>\n",
       "    </tr>\n",
       "  </thead>\n",
       "  <tbody>\n",
       "    <tr>\n",
       "      <th>0</th>\n",
       "      <td>198488820X</td>\n",
       "      <td>A. K. Benjamin</td>\n",
       "      <td>Let Me Not Be Mad</td>\n",
       "      <td>Nicholas Guy Smith</td>\n",
       "      <td>545.0</td>\n",
       "      <td>Biographies &amp; Memoirs</td>\n",
       "      <td>9.083333</td>\n",
       "    </tr>\n",
       "    <tr>\n",
       "      <th>1</th>\n",
       "      <td>B005AOMPZY</td>\n",
       "      <td>Karin Fossum</td>\n",
       "      <td>The Caller</td>\n",
       "      <td>David Rintoul</td>\n",
       "      <td>430.0</td>\n",
       "      <td>Mystery, Thriller &amp; Suspense</td>\n",
       "      <td>7.166667</td>\n",
       "    </tr>\n",
       "    <tr>\n",
       "      <th>2</th>\n",
       "      <td>B07LB4DCY6</td>\n",
       "      <td>Joy Ellis</td>\n",
       "      <td>The Guilty Ones</td>\n",
       "      <td>Richard Armitage</td>\n",
       "      <td>575.0</td>\n",
       "      <td>Mystery, Thriller &amp; Suspense</td>\n",
       "      <td>9.583333</td>\n",
       "    </tr>\n",
       "    <tr>\n",
       "      <th>3</th>\n",
       "      <td>B013RGCLPK</td>\n",
       "      <td>Janet Mock</td>\n",
       "      <td>Redefining Realness</td>\n",
       "      <td>Janet Mock</td>\n",
       "      <td>494.0</td>\n",
       "      <td>Biographies &amp; Memoirs</td>\n",
       "      <td>8.233333</td>\n",
       "    </tr>\n",
       "    <tr>\n",
       "      <th>4</th>\n",
       "      <td>B00D9BPQ10</td>\n",
       "      <td>Willard Sterne Randall</td>\n",
       "      <td>Ethan Allen</td>\n",
       "      <td>Mark Whitten</td>\n",
       "      <td>1111.0</td>\n",
       "      <td>Biographies &amp; Memoirs</td>\n",
       "      <td>18.516667</td>\n",
       "    </tr>\n",
       "    <tr>\n",
       "      <th>...</th>\n",
       "      <td>...</td>\n",
       "      <td>...</td>\n",
       "      <td>...</td>\n",
       "      <td>...</td>\n",
       "      <td>...</td>\n",
       "      <td>...</td>\n",
       "      <td>...</td>\n",
       "    </tr>\n",
       "    <tr>\n",
       "      <th>86759</th>\n",
       "      <td>B00F3F1EV6</td>\n",
       "      <td>Judith Tarr</td>\n",
       "      <td>Ars Magica</td>\n",
       "      <td>Jean Brassard</td>\n",
       "      <td>558.0</td>\n",
       "      <td>Science Fiction &amp; Fantasy</td>\n",
       "      <td>9.300000</td>\n",
       "    </tr>\n",
       "    <tr>\n",
       "      <th>86760</th>\n",
       "      <td>B071F4PRX7</td>\n",
       "      <td>Maureen Carter</td>\n",
       "      <td>Blood Money</td>\n",
       "      <td>Clare Corbett</td>\n",
       "      <td>537.0</td>\n",
       "      <td>Mystery, Thriller &amp; Suspense</td>\n",
       "      <td>8.950000</td>\n",
       "    </tr>\n",
       "    <tr>\n",
       "      <th>86761</th>\n",
       "      <td>B074WHC7C3</td>\n",
       "      <td>Tom Wood</td>\n",
       "      <td>The Final Hour</td>\n",
       "      <td>Rob Shapiro</td>\n",
       "      <td>716.0</td>\n",
       "      <td>Mystery, Thriller &amp; Suspense</td>\n",
       "      <td>11.933333</td>\n",
       "    </tr>\n",
       "    <tr>\n",
       "      <th>86762</th>\n",
       "      <td>B00N345Z00</td>\n",
       "      <td>Penny Junor</td>\n",
       "      <td>Prince Harry</td>\n",
       "      <td>Penny Junor</td>\n",
       "      <td>784.0</td>\n",
       "      <td>Biographies &amp; Memoirs</td>\n",
       "      <td>13.066667</td>\n",
       "    </tr>\n",
       "    <tr>\n",
       "      <th>86763</th>\n",
       "      <td>B00P6ZPLQM</td>\n",
       "      <td>Glen Cook</td>\n",
       "      <td>Ceremony</td>\n",
       "      <td>Eva Kaminsky</td>\n",
       "      <td>590.0</td>\n",
       "      <td>Science Fiction &amp; Fantasy</td>\n",
       "      <td>9.833333</td>\n",
       "    </tr>\n",
       "  </tbody>\n",
       "</table>\n",
       "<p>86764 rows × 7 columns</p>\n",
       "</div>"
      ],
      "text/plain": [
       "             asin                  author                title  \\\n",
       "0      198488820X          A. K. Benjamin    Let Me Not Be Mad   \n",
       "1      B005AOMPZY            Karin Fossum           The Caller   \n",
       "2      B07LB4DCY6               Joy Ellis      The Guilty Ones   \n",
       "3      B013RGCLPK              Janet Mock  Redefining Realness   \n",
       "4      B00D9BPQ10  Willard Sterne Randall          Ethan Allen   \n",
       "...           ...                     ...                  ...   \n",
       "86759  B00F3F1EV6             Judith Tarr           Ars Magica   \n",
       "86760  B071F4PRX7          Maureen Carter          Blood Money   \n",
       "86761  B074WHC7C3                Tom Wood       The Final Hour   \n",
       "86762  B00N345Z00             Penny Junor         Prince Harry   \n",
       "86763  B00P6ZPLQM               Glen Cook             Ceremony   \n",
       "\n",
       "                 narrator  length                      category  \\\n",
       "0      Nicholas Guy Smith   545.0         Biographies & Memoirs   \n",
       "1           David Rintoul   430.0  Mystery, Thriller & Suspense   \n",
       "2        Richard Armitage   575.0  Mystery, Thriller & Suspense   \n",
       "3              Janet Mock   494.0         Biographies & Memoirs   \n",
       "4            Mark Whitten  1111.0         Biographies & Memoirs   \n",
       "...                   ...     ...                           ...   \n",
       "86759       Jean Brassard   558.0     Science Fiction & Fantasy   \n",
       "86760       Clare Corbett   537.0  Mystery, Thriller & Suspense   \n",
       "86761         Rob Shapiro   716.0  Mystery, Thriller & Suspense   \n",
       "86762         Penny Junor   784.0         Biographies & Memoirs   \n",
       "86763        Eva Kaminsky   590.0     Science Fiction & Fantasy   \n",
       "\n",
       "       length_in_hours  \n",
       "0             9.083333  \n",
       "1             7.166667  \n",
       "2             9.583333  \n",
       "3             8.233333  \n",
       "4            18.516667  \n",
       "...                ...  \n",
       "86759         9.300000  \n",
       "86760         8.950000  \n",
       "86761        11.933333  \n",
       "86762        13.066667  \n",
       "86763         9.833333  \n",
       "\n",
       "[86764 rows x 7 columns]"
      ]
     },
     "execution_count": 87,
     "metadata": {},
     "output_type": "execute_result"
    }
   ],
   "source": [
    "df_shuffled "
   ]
  },
  {
   "cell_type": "code",
   "execution_count": 88,
   "id": "80146ac4",
   "metadata": {},
   "outputs": [],
   "source": [
    "# Convert df to csv file\n",
    "df_shuffled.to_csv('../data/audible_mungingdata.csv', index=False)"
   ]
  }
 ],
 "metadata": {
  "kernelspec": {
   "display_name": "Python 3 (ipykernel)",
   "language": "python",
   "name": "python3"
  },
  "language_info": {
   "codemirror_mode": {
    "name": "ipython",
    "version": 3
   },
   "file_extension": ".py",
   "mimetype": "text/x-python",
   "name": "python",
   "nbconvert_exporter": "python",
   "pygments_lexer": "ipython3",
   "version": "3.8.19"
  }
 },
 "nbformat": 4,
 "nbformat_minor": 5
}
